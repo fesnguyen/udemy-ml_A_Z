{
 "cells": [
  {
   "cell_type": "code",
   "execution_count": 23,
   "id": "5084c4aa-79b0-4f71-a32e-e7820dad1098",
   "metadata": {},
   "outputs": [
    {
     "name": "stdout",
     "output_type": "stream",
     "text": [
      "['column1', 'column2']\n"
     ]
    }
   ],
   "source": [
    "import pandas as pd\n",
    "import numpy as np\n",
    "\n",
    "data = {\n",
    "    'column1': [1, 2, None, 4, np.nan],\n",
    "    'column2': [5, np.nan, 7, 8, None],\n",
    "    'column3': ['a', 'b', 'c', None, 'd']\n",
    "}\n",
    "df = pd.DataFrame(data)\n",
    "\n",
    "# Assuming you have a DataFrame named 'df'\n",
    "# column_with_none = [col if df[col].isnull().any() else None for col in df.select_dtypes(include=['number']).columns] \n",
    "column_with_none = [col for col in df.select_dtypes(include=['number']).columns if df[col].isnull().any()]\n",
    "\n",
    "print(column_with_none)"
   ]
  },
  {
   "cell_type": "code",
   "execution_count": null,
   "id": "b42d0286-9f5d-493a-848f-fc1ee0d4b00b",
   "metadata": {},
   "outputs": [],
   "source": []
  }
 ],
 "metadata": {
  "kernelspec": {
   "display_name": "Python 3 (ipykernel)",
   "language": "python",
   "name": "python3"
  },
  "language_info": {
   "codemirror_mode": {
    "name": "ipython",
    "version": 3
   },
   "file_extension": ".py",
   "mimetype": "text/x-python",
   "name": "python",
   "nbconvert_exporter": "python",
   "pygments_lexer": "ipython3",
   "version": "3.10.11"
  }
 },
 "nbformat": 4,
 "nbformat_minor": 5
}
