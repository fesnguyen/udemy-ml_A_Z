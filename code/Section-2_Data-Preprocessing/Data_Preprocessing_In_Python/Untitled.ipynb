{
 "cells": [
  {
   "cell_type": "markdown",
   "id": "8abfb2cd-e82e-4e86-a220-88f09d093a17",
   "metadata": {},
   "source": [
    "# Import Pandas Library"
   ]
  },
  {
   "cell_type": "code",
   "execution_count": 10,
   "id": "8591f259-d38b-479a-a704-5aa06c6d7f0d",
   "metadata": {},
   "outputs": [],
   "source": [
    "import pandas as pd"
   ]
  },
  {
   "cell_type": "markdown",
   "id": "d5b046fa-7489-44f3-b915-acb674856ddc",
   "metadata": {},
   "source": [
    "## Load dataset"
   ]
  },
  {
   "cell_type": "code",
   "execution_count": 27,
   "id": "7e175afa-5c9c-43c4-99c1-8c2a998ddff3",
   "metadata": {},
   "outputs": [],
   "source": [
    "df = pd.read_csv('Data.csv')"
   ]
  },
  {
   "cell_type": "markdown",
   "id": "7a29f3c9-a554-448e-b2d5-e029bebf927e",
   "metadata": {},
   "source": [
    "### Check dataset"
   ]
  },
  {
   "cell_type": "code",
   "execution_count": 12,
   "id": "28e8f809-e234-41a5-9529-6835443af0f7",
   "metadata": {},
   "outputs": [
    {
     "name": "stdout",
     "output_type": "stream",
     "text": [
      "   Country   Age   Salary Purchased\n",
      "0   France  44.0  72000.0        No\n",
      "1    Spain  27.0  48000.0       Yes\n",
      "2  Germany  30.0  54000.0        No\n",
      "3    Spain  38.0  61000.0        No\n",
      "4  Germany  40.0      NaN       Yes\n",
      "5   France  35.0  58000.0       Yes\n",
      "6    Spain   NaN  52000.0        No\n",
      "7   France  48.0  79000.0       Yes\n",
      "8  Germany  50.0  83000.0        No\n",
      "9   France  37.0  67000.0       Yes\n"
     ]
    }
   ],
   "source": [
    "print(df)"
   ]
  },
  {
   "cell_type": "markdown",
   "id": "d6c6d79d-885d-4fd0-b456-e644a59009d7",
   "metadata": {},
   "source": [
    "### Split feature X"
   ]
  },
  {
   "cell_type": "code",
   "execution_count": 65,
   "id": "1d5d1987-ad11-4ba4-8a8f-bcdb176f7cc5",
   "metadata": {},
   "outputs": [],
   "source": [
    "X = df.iloc[:, :-1]"
   ]
  },
  {
   "cell_type": "code",
   "execution_count": 66,
   "id": "ad3507fb-9ab8-49ff-8b16-635d8e8ab764",
   "metadata": {},
   "outputs": [
    {
     "name": "stdout",
     "output_type": "stream",
     "text": [
      "   Country   Age   Salary\n",
      "0   France  44.0  72000.0\n",
      "1    Spain  27.0  48000.0\n",
      "2  Germany  30.0  54000.0\n",
      "3    Spain  38.0  61000.0\n",
      "4  Germany  40.0      NaN\n",
      "5   France  35.0  58000.0\n",
      "6    Spain   NaN  52000.0\n",
      "7   France  48.0  79000.0\n",
      "8  Germany  50.0  83000.0\n",
      "9   France  37.0  67000.0\n"
     ]
    }
   ],
   "source": [
    "print(X)"
   ]
  },
  {
   "cell_type": "markdown",
   "id": "daa4e3c8-10f8-438e-a435-4fdb49f50802",
   "metadata": {},
   "source": [
    "### Split label y"
   ]
  },
  {
   "cell_type": "code",
   "execution_count": 29,
   "id": "69082e20-c19f-4a70-8843-e7b8645669ac",
   "metadata": {},
   "outputs": [],
   "source": [
    "y = df.iloc[:, -1]"
   ]
  },
  {
   "cell_type": "code",
   "execution_count": 30,
   "id": "b5ff7e1c-e1d2-41c5-8fa6-5104ce7f21af",
   "metadata": {},
   "outputs": [
    {
     "name": "stdout",
     "output_type": "stream",
     "text": [
      "0     No\n",
      "1    Yes\n",
      "2     No\n",
      "3     No\n",
      "4    Yes\n",
      "5    Yes\n",
      "6     No\n",
      "7    Yes\n",
      "8     No\n",
      "9    Yes\n",
      "Name: Purchased, dtype: object\n"
     ]
    }
   ],
   "source": [
    "print(y)"
   ]
  },
  {
   "cell_type": "markdown",
   "id": "24dd132a-6d94-4a59-b0e8-1759277bec01",
   "metadata": {},
   "source": [
    "## Handle missing value"
   ]
  },
  {
   "cell_type": "markdown",
   "id": "66c4c068-1a5c-4f00-b1b1-c3b2efe77a8e",
   "metadata": {},
   "source": [
    "### Import SimpleImputer and numpy"
   ]
  },
  {
   "cell_type": "code",
   "execution_count": 31,
   "id": "173204b7-c4c6-488f-8d13-554875640957",
   "metadata": {},
   "outputs": [],
   "source": [
    "from sklearn.impute import SimpleImputer\n",
    "import numpy as np"
   ]
  },
  {
   "cell_type": "markdown",
   "id": "6c204851-4f8e-4aa0-b361-2893998d835c",
   "metadata": {},
   "source": [
    "### Replace nan value with mean"
   ]
  },
  {
   "cell_type": "code",
   "execution_count": 67,
   "id": "b95922bf-5062-4ea5-8515-af9ab4cd13e9",
   "metadata": {},
   "outputs": [],
   "source": [
    "imputer = SimpleImputer(missing_values=np.nan, strategy='mean')\n",
    "X.iloc[:, 1:3] = imputer.fit_transform(X.iloc[:, 1:3])"
   ]
  },
  {
   "cell_type": "code",
   "execution_count": 68,
   "id": "139bf8ad-0e1e-44c7-a406-a19d800afffd",
   "metadata": {},
   "outputs": [
    {
     "name": "stdout",
     "output_type": "stream",
     "text": [
      "   Country        Age        Salary\n",
      "0   France  44.000000  72000.000000\n",
      "1    Spain  27.000000  48000.000000\n",
      "2  Germany  30.000000  54000.000000\n",
      "3    Spain  38.000000  61000.000000\n",
      "4  Germany  40.000000  63777.777778\n",
      "5   France  35.000000  58000.000000\n",
      "6    Spain  38.777778  52000.000000\n",
      "7   France  48.000000  79000.000000\n",
      "8  Germany  50.000000  83000.000000\n",
      "9   France  37.000000  67000.000000\n"
     ]
    }
   ],
   "source": [
    "print(X)"
   ]
  },
  {
   "cell_type": "markdown",
   "id": "349138cb-fcf8-4682-9e09-6309bdffdeff",
   "metadata": {},
   "source": [
    "## Handle Categories value"
   ]
  },
  {
   "cell_type": "markdown",
   "id": "28354400-5043-48da-a2e9-8e1e99882729",
   "metadata": {},
   "source": [
    "### import libraries"
   ]
  },
  {
   "cell_type": "code",
   "execution_count": null,
   "id": "84f03ff7-e78b-4571-ad7d-634d8b57c0d7",
   "metadata": {},
   "outputs": [],
   "source": [
    "from sklearn.compose import ColumnTransformer\n",
    "from sklearn.preprocessing import OneHotEncoder"
   ]
  },
  {
   "cell_type": "markdown",
   "id": "b8db1e3c-b488-4a79-8262-1e5735545a7d",
   "metadata": {},
   "source": [
    "### Feature categories"
   ]
  },
  {
   "cell_type": "code",
   "execution_count": 74,
   "id": "5005a86e-0dcc-4516-9067-6706aa962817",
   "metadata": {},
   "outputs": [
    {
     "name": "stdout",
     "output_type": "stream",
     "text": [
      "Index(['Country', 'Age', 'Salary'], dtype='object')\n"
     ]
    }
   ],
   "source": [
    "print(X.columns)"
   ]
  },
  {
   "cell_type": "code",
   "execution_count": 75,
   "id": "ca8676d5-375b-49eb-87fe-8f4cff6ceb19",
   "metadata": {},
   "outputs": [],
   "source": [
    "ct = ColumnTransformer(transformers=[('encoder', OneHotEncoder(), [0])], remainder='passthrough')\n",
    "X = pd.DataFrame(ct.fit_transform(X))"
   ]
  },
  {
   "cell_type": "code",
   "execution_count": 76,
   "id": "be37574c-51cc-4dd7-bd66-ddbde403d59a",
   "metadata": {},
   "outputs": [
    {
     "name": "stdout",
     "output_type": "stream",
     "text": [
      "     0    1    2          3             4\n",
      "0  1.0  0.0  0.0  44.000000  72000.000000\n",
      "1  0.0  0.0  1.0  27.000000  48000.000000\n",
      "2  0.0  1.0  0.0  30.000000  54000.000000\n",
      "3  0.0  0.0  1.0  38.000000  61000.000000\n",
      "4  0.0  1.0  0.0  40.000000  63777.777778\n",
      "5  1.0  0.0  0.0  35.000000  58000.000000\n",
      "6  0.0  0.0  1.0  38.777778  52000.000000\n",
      "7  1.0  0.0  0.0  48.000000  79000.000000\n",
      "8  0.0  1.0  0.0  50.000000  83000.000000\n",
      "9  1.0  0.0  0.0  37.000000  67000.000000\n"
     ]
    }
   ],
   "source": [
    "print(X)"
   ]
  },
  {
   "cell_type": "markdown",
   "id": "c26e2f26-0bcf-4a4f-9e85-45051b823c7b",
   "metadata": {},
   "source": [
    "### Label categories"
   ]
  },
  {
   "cell_type": "code",
   "execution_count": 47,
   "id": "50cb09d6-f09b-4e9a-9827-7d4fb395512b",
   "metadata": {},
   "outputs": [],
   "source": [
    "from sklearn.preprocessing import LabelEncoder"
   ]
  },
  {
   "cell_type": "code",
   "execution_count": 48,
   "id": "f60a0f40-5aff-4e42-acda-d32ade409ea1",
   "metadata": {},
   "outputs": [],
   "source": [
    "le = LabelEncoder()\n",
    "y = le.fit_transform(y)"
   ]
  },
  {
   "cell_type": "code",
   "execution_count": 49,
   "id": "af056dd1-18ed-4214-9936-e9d2bc3d8d86",
   "metadata": {},
   "outputs": [
    {
     "name": "stdout",
     "output_type": "stream",
     "text": [
      "[0 1 0 0 1 1 0 1 0 1]\n"
     ]
    }
   ],
   "source": [
    "print(y)"
   ]
  },
  {
   "cell_type": "markdown",
   "id": "73d12bf1-b19c-4008-a7aa-6f95bc5eb402",
   "metadata": {},
   "source": [
    "## Spliting data into train and test set"
   ]
  },
  {
   "cell_type": "markdown",
   "id": "fe292239-c124-4965-b8cd-400085fbaaa8",
   "metadata": {},
   "source": [
    "### Import train_test_split library"
   ]
  },
  {
   "cell_type": "code",
   "execution_count": 77,
   "id": "e9ebf627-b749-4a53-8869-0fb86f69f92e",
   "metadata": {},
   "outputs": [],
   "source": [
    "from sklearn.model_selection import train_test_split"
   ]
  },
  {
   "cell_type": "markdown",
   "id": "1de50305-d654-4f33-a16c-bb2ea6f47d1c",
   "metadata": {},
   "source": [
    "### Split the data"
   ]
  },
  {
   "cell_type": "code",
   "execution_count": 78,
   "id": "684add80-247d-40cd-90c0-ae0314738dad",
   "metadata": {},
   "outputs": [],
   "source": [
    "X_train, X_test, y_train, y_test = train_test_split(X, y, test_size=0.2, random_state=42)"
   ]
  },
  {
   "cell_type": "code",
   "execution_count": 79,
   "id": "09e550d1-dbea-446e-bd6a-ab28ec28734e",
   "metadata": {},
   "outputs": [
    {
     "name": "stdout",
     "output_type": "stream",
     "text": [
      "     0    1    2          3             4\n",
      "5  1.0  0.0  0.0  35.000000  58000.000000\n",
      "0  1.0  0.0  0.0  44.000000  72000.000000\n",
      "7  1.0  0.0  0.0  48.000000  79000.000000\n",
      "2  0.0  1.0  0.0  30.000000  54000.000000\n",
      "9  1.0  0.0  0.0  37.000000  67000.000000\n",
      "4  0.0  1.0  0.0  40.000000  63777.777778\n",
      "3  0.0  0.0  1.0  38.000000  61000.000000\n",
      "6  0.0  0.0  1.0  38.777778  52000.000000\n"
     ]
    }
   ],
   "source": [
    "print(X_train)"
   ]
  },
  {
   "cell_type": "code",
   "execution_count": 80,
   "id": "1c7741d4-7300-487d-ac0b-b5581fd3e1d1",
   "metadata": {},
   "outputs": [
    {
     "name": "stdout",
     "output_type": "stream",
     "text": [
      "     0    1    2     3        4\n",
      "8  0.0  1.0  0.0  50.0  83000.0\n",
      "1  0.0  0.0  1.0  27.0  48000.0\n"
     ]
    }
   ],
   "source": [
    "print(X_test)"
   ]
  },
  {
   "cell_type": "markdown",
   "id": "81b4c5b1-5bf3-417d-a4a1-204789247ca2",
   "metadata": {},
   "source": [
    "## Scale the data"
   ]
  },
  {
   "cell_type": "markdown",
   "id": "89694db9-d502-4185-8106-d5910b647251",
   "metadata": {},
   "source": [
    "### Import libraries"
   ]
  },
  {
   "cell_type": "code",
   "execution_count": 81,
   "id": "fe405f4e-a40a-4ebb-8f18-a2ad1c181647",
   "metadata": {},
   "outputs": [],
   "source": [
    "from sklearn.preprocessing import StandardScaler\n",
    "ss = StandardScaler()\n",
    "X_train[: 1:] = ss.fit_transform(X_train[: 1:])\n",
    "X_test[: 1:] = ss.transform(X_train[: 1:])"
   ]
  },
  {
   "cell_type": "code",
   "execution_count": 82,
   "id": "6e8a726d-e5f3-47d8-8fc5-52816d5f62d3",
   "metadata": {},
   "outputs": [
    {
     "name": "stdout",
     "output_type": "stream",
     "text": [
      "     0    1    2          3             4\n",
      "5  0.0  0.0  0.0   0.000000      0.000000\n",
      "0  1.0  0.0  0.0  44.000000  72000.000000\n",
      "7  1.0  0.0  0.0  48.000000  79000.000000\n",
      "2  0.0  1.0  0.0  30.000000  54000.000000\n",
      "9  1.0  0.0  0.0  37.000000  67000.000000\n",
      "4  0.0  1.0  0.0  40.000000  63777.777778\n",
      "3  0.0  0.0  1.0  38.000000  61000.000000\n",
      "6  0.0  0.0  1.0  38.777778  52000.000000\n"
     ]
    }
   ],
   "source": [
    "print(X_train)"
   ]
  },
  {
   "cell_type": "code",
   "execution_count": 83,
   "id": "9880f84f-fb57-4b82-b6f9-0e63bd0806e0",
   "metadata": {},
   "outputs": [
    {
     "name": "stdout",
     "output_type": "stream",
     "text": [
      "     0    1    2     3        4\n",
      "8 -1.0  0.0  0.0 -35.0 -58000.0\n",
      "1  0.0  0.0  1.0  27.0  48000.0\n"
     ]
    }
   ],
   "source": [
    "print(X_test)"
   ]
  },
  {
   "cell_type": "code",
   "execution_count": null,
   "id": "70ec055e-2146-4384-be57-5732556d847c",
   "metadata": {},
   "outputs": [],
   "source": []
  }
 ],
 "metadata": {
  "kernelspec": {
   "display_name": "Python 3 (ipykernel)",
   "language": "python",
   "name": "python3"
  },
  "language_info": {
   "codemirror_mode": {
    "name": "ipython",
    "version": 3
   },
   "file_extension": ".py",
   "mimetype": "text/x-python",
   "name": "python",
   "nbconvert_exporter": "python",
   "pygments_lexer": "ipython3",
   "version": "3.10.11"
  }
 },
 "nbformat": 4,
 "nbformat_minor": 5
}
