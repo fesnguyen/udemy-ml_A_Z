{
 "cells": [
  {
   "cell_type": "markdown",
   "id": "c1173db8-0442-4fdd-a036-ec8056dabe0d",
   "metadata": {},
   "source": [
    "# Model Selection"
   ]
  },
  {
   "cell_type": "markdown",
   "id": "6e34a37a-1df7-4121-8da7-7344d112f4f2",
   "metadata": {},
   "source": [
    "## KFold Cross Validation"
   ]
  },
  {
   "cell_type": "markdown",
   "id": "b2fb74cc-2499-4d85-aae2-160dfe9609e3",
   "metadata": {},
   "source": [
    "Separate training set to K part (Let consider 10), then for each part, use it as validation set, and use all other part as training set to see the model performance"
   ]
  },
  {
   "cell_type": "markdown",
   "id": "46a1f96d-90b4-44ff-afe5-3143a5b3b2ea",
   "metadata": {},
   "source": [
    "## Bias Variance Tradeoff"
   ]
  },
  {
   "cell_type": "markdown",
   "id": "8521ab0d-d85c-441b-bbc0-de21ab86c04f",
   "metadata": {},
   "source": [
    "### Bias is the constant number we add to weight, it's used to fit the model with value, high bias mean it's try to overfit the training data\n",
    "### Variance is the spread of the data, high variance mean it's can adapt new data in various range but reduce the accuracy"
   ]
  },
  {
   "cell_type": "markdown",
   "id": "989a1bbb-a178-4f54-aeff-b21674682c40",
   "metadata": {},
   "source": [
    "## Grid Search"
   ]
  },
  {
   "cell_type": "markdown",
   "id": "386d5903-a5f4-4889-8888-1651ed99690d",
   "metadata": {},
   "source": [
    "Grid Search use Kfold Cross Validation to find the best hyperparameters for model"
   ]
  },
  {
   "cell_type": "markdown",
   "id": "304abeee-7158-486e-b6e4-c9ee1875b298",
   "metadata": {},
   "source": [
    "## XGBoot (eXtreme Gradient Boosting)"
   ]
  },
  {
   "cell_type": "markdown",
   "id": "409b7b6d-e80c-47d5-831e-7b66c19c0b93",
   "metadata": {},
   "source": [
    "Using Decision Tree as the trained model => calculate residual, train new decision tree for this residual, add predictions of new tree to the previous tree, repeat calculate residual and train for it the number of time"
   ]
  },
  {
   "cell_type": "code",
   "execution_count": null,
   "id": "2439e326-6163-4391-8101-236d736adf86",
   "metadata": {},
   "outputs": [],
   "source": []
  }
 ],
 "metadata": {
  "kernelspec": {
   "display_name": "Python 3 (ipykernel)",
   "language": "python",
   "name": "python3"
  },
  "language_info": {
   "codemirror_mode": {
    "name": "ipython",
    "version": 3
   },
   "file_extension": ".py",
   "mimetype": "text/x-python",
   "name": "python",
   "nbconvert_exporter": "python",
   "pygments_lexer": "ipython3",
   "version": "3.10.11"
  }
 },
 "nbformat": 4,
 "nbformat_minor": 5
}
